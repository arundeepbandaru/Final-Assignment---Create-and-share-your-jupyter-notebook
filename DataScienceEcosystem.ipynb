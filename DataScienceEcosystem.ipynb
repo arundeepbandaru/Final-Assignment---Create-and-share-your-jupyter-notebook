{
 "cells": [
  {
   "cell_type": "markdown",
   "id": "fc17a21c-3be0-4149-810e-3e2d69675fbc",
   "metadata": {},
   "source": [
    "# Data Science Tools and Ecosystem"
   ]
  },
  {
   "cell_type": "markdown",
   "id": "a073be75-3c76-4b44-b149-c23f40cdf2a9",
   "metadata": {},
   "source": [
    "## In this notebook, Data Science Tools and Ecosystem are summarized."
   ]
  },
  {
   "cell_type": "markdown",
   "id": "a3002311-7fce-40ef-aaf6-1de2b5c3d75d",
   "metadata": {},
   "source": [
    "## Objectives:\n",
    "\n",
    "- List popular languages for Data Science\n",
    "- Explore common libraries used in Data Science\n",
    "- Learn about development environments for Data Science\n",
    "- Examples of evaluating arithmetic expressions in python\n"
   ]
  },
  {
   "cell_type": "markdown",
   "id": "c50d7266-3e89-4fb9-a220-ebfdbb910d83",
   "metadata": {},
   "source": [
    "## Some of the popular languages that Data Scientists use are:\n",
    "\n",
    "1) ### Python\n",
    "2) ### R\n",
    "3) ### SQL"
   ]
  },
  {
   "cell_type": "markdown",
   "id": "f2223cb4-93a6-4d98-a23c-7bdd3de6478f",
   "metadata": {},
   "source": [
    "## Some of the commonly used libraries used by Data Scientists include:\n",
    "\n",
    "1) ### Pandas\n",
    "2) ### NumPy\n",
    "3) ### Matplotlib"
   ]
  },
  {
   "cell_type": "markdown",
   "id": "5ed33ce7-2410-4896-ac26-144a9aa48537",
   "metadata": {},
   "source": [
    "| Data Science Tools |\r\n",
    "|--------------------|\r\n",
    "| Jupyter Notebook   |\r\n",
    "| RStudio            |\r\n",
    "| Visual Studio Code |\r\n"
   ]
  },
  {
   "cell_type": "markdown",
   "id": "d6a73b68-46fe-4f9d-9f7b-f8bc4f7275ad",
   "metadata": {},
   "source": [
    "### Below are a few examples of evaluating arithmetic expressions in Python.\r\n"
   ]
  },
  {
   "cell_type": "code",
   "execution_count": 4,
   "id": "5a7fe01d-eca0-4f8e-94ac-ac4ec3ee5e14",
   "metadata": {},
   "outputs": [
    {
     "data": {
      "text/plain": [
       "17"
      ]
     },
     "execution_count": 4,
     "metadata": {},
     "output_type": "execute_result"
    }
   ],
   "source": [
    "# This is a simple arithmetic expression to multiply then add integers\n",
    "(3 * 4) + 5"
   ]
  },
  {
   "cell_type": "code",
   "execution_count": 5,
   "id": "65059170-ead0-4e18-8cb7-7c4cb09435ad",
   "metadata": {},
   "outputs": [
    {
     "data": {
      "text/plain": [
       "3.3333333333333335"
      ]
     },
     "execution_count": 5,
     "metadata": {},
     "output_type": "execute_result"
    }
   ],
   "source": [
    "# This will convert 200 minutes to hours by dividing by 60\n",
    "hours = 200 / 60\n",
    "hours\n"
   ]
  },
  {
   "cell_type": "markdown",
   "id": "e647bfad-eec7-4e57-96b5-7cfaaf83599e",
   "metadata": {},
   "source": [
    "## Author\n",
    "\n",
    "Arundeep Bandaru\n"
   ]
  }
 ],
 "metadata": {
  "kernelspec": {
   "display_name": "Python 3 (ipykernel)",
   "language": "python",
   "name": "python3"
  },
  "language_info": {
   "codemirror_mode": {
    "name": "ipython",
    "version": 3
   },
   "file_extension": ".py",
   "mimetype": "text/x-python",
   "name": "python",
   "nbconvert_exporter": "python",
   "pygments_lexer": "ipython3",
   "version": "3.11.7"
  }
 },
 "nbformat": 4,
 "nbformat_minor": 5
}
